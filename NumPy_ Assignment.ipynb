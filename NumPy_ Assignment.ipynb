{
 "cells": [
  {
   "cell_type": "code",
   "execution_count": 1,
   "id": "bc0368e4-fe7d-4636-bd2e-f3e11ca7edc8",
   "metadata": {},
   "outputs": [],
   "source": [
    "# Data Types & Attributes\n",
    "import numpy as np"
   ]
  },
  {
   "cell_type": "code",
   "execution_count": 2,
   "id": "d2840412-0fc4-4adc-bc08-c339cc443fbe",
   "metadata": {},
   "outputs": [
    {
     "name": "stdout",
     "output_type": "stream",
     "text": [
      "1. Data type of arr1: int32\n"
     ]
    }
   ],
   "source": [
    "# 1. Create a NumPy array arr of integers from 0 to 5 and print its data type.\n",
    "arr1 = np.arange(6)\n",
    "print(\"1. Data type of arr1:\", arr1.dtype)"
   ]
  },
  {
   "cell_type": "code",
   "execution_count": 3,
   "id": "4ca65b88-23b1-4b4a-9125-f3fdfb192778",
   "metadata": {},
   "outputs": [
    {
     "name": "stdout",
     "output_type": "stream",
     "text": [
      "2. Is arr2 float64? True\n"
     ]
    }
   ],
   "source": [
    "# 2. Given a NumPy array arr, check if its data type is float64.\n",
    "def is_float64(arr):\n",
    "    return arr.dtype == np.float64\n",
    "\n",
    "# Example:\n",
    "arr2 = np.array([1.0, 2.0, 3.0], dtype=np.float64)\n",
    "print(\"2. Is arr2 float64?\", is_float64(arr2))"
   ]
  },
  {
   "cell_type": "code",
   "execution_count": 4,
   "id": "19ffd04c-8ff5-429c-aa8a-379f20d6e2da",
   "metadata": {},
   "outputs": [
    {
     "name": "stdout",
     "output_type": "stream",
     "text": [
      "3. arr3 (complex128): [1.+2.j 3.+4.j 5.+6.j]\n"
     ]
    }
   ],
   "source": [
    "# 3. Create a NumPy array arr with a data type of complex128 containing three complex numbers.\n",
    "arr3 = np.array([1+2j, 3+4j, 5+6j], dtype=np.complex128)\n",
    "print(\"3. arr3 (complex128):\", arr3)"
   ]
  },
  {
   "cell_type": "code",
   "execution_count": 5,
   "id": "ce1ae815-8caf-47e7-bb26-3cb0f2f4611b",
   "metadata": {},
   "outputs": [
    {
     "name": "stdout",
     "output_type": "stream",
     "text": [
      "4. arr4 converted to float32: [1. 2. 3. 4.]\n"
     ]
    }
   ],
   "source": [
    "# 4. Convert an existing NumPy array arr of integers to float32 data type.\n",
    "arr4 = np.array([1, 2, 3, 4])\n",
    "arr4_float32 = arr4.astype(np.float32)\n",
    "print(\"4. arr4 converted to float32:\", arr4_float32)"
   ]
  },
  {
   "cell_type": "code",
   "execution_count": 6,
   "id": "fb3eae37-a60c-4d73-ad9b-2a3db56ebc93",
   "metadata": {},
   "outputs": [
    {
     "name": "stdout",
     "output_type": "stream",
     "text": [
      "5. arr5 converted to float32: [1.1 2.2 3.3]\n"
     ]
    }
   ],
   "source": [
    "# 5. Given a NumPy array arr with float64 data type, convert it to float32 to reduce decimal precision.\n",
    "arr5 = np.array([1.1, 2.2, 3.3], dtype=np.float64)\n",
    "arr5_float32 = arr5.astype(np.float32)\n",
    "print(\"5. arr5 converted to float32:\", arr5_float32)"
   ]
  },
  {
   "cell_type": "code",
   "execution_count": 7,
   "id": "4866663d-43e6-49ed-85e8-02fd9122b910",
   "metadata": {},
   "outputs": [
    {
     "name": "stdout",
     "output_type": "stream",
     "text": [
      "6. Attributes of arr2: ((3,), 3, dtype('float64'))\n"
     ]
    }
   ],
   "source": [
    "# 6. Function to return shape, size, and data type of an array.\n",
    "def array_attributes(arr):\n",
    "    return arr.shape, arr.size, arr.dtype\n",
    "\n",
    "# Example:\n",
    "print(\"6. Attributes of arr2:\", array_attributes(arr2))"
   ]
  },
  {
   "cell_type": "code",
   "execution_count": 8,
   "id": "c8030a13-02b3-47e4-aa2d-82f05063b484",
   "metadata": {},
   "outputs": [
    {
     "name": "stdout",
     "output_type": "stream",
     "text": [
      "7. Dimensionality of arr3: 1\n"
     ]
    }
   ],
   "source": [
    "# 7. Function to return the number of dimensions of a NumPy array.\n",
    "def array_dimension(arr):\n",
    "    return arr.ndim\n",
    "\n",
    "# Example:\n",
    "print(\"7. Dimensionality of arr3:\", array_dimension(arr3))"
   ]
  },
  {
   "cell_type": "code",
   "execution_count": 9,
   "id": "bb45684f-b295-490f-91f9-a140f39b3cd0",
   "metadata": {},
   "outputs": [
    {
     "name": "stdout",
     "output_type": "stream",
     "text": [
      "8. Item size and total size of arr4: (4, 16)\n"
     ]
    }
   ],
   "source": [
    "# 8. Function to return item size and total size in bytes of an array.\n",
    "def item_size_info(arr):\n",
    "    return arr.itemsize, arr.nbytes\n",
    "\n",
    "# Example:\n",
    "print(\"8. Item size and total size of arr4:\", item_size_info(arr4))"
   ]
  },
  {
   "cell_type": "code",
   "execution_count": 10,
   "id": "0c744f38-50b2-4e26-934e-ca504978294e",
   "metadata": {},
   "outputs": [
    {
     "name": "stdout",
     "output_type": "stream",
     "text": [
      "9. Strides of arr1: (4,)\n"
     ]
    }
   ],
   "source": [
    "# 9. Function to return the strides of the given NumPy array.\n",
    "def array_strides(arr):\n",
    "    return arr.strides\n",
    "\n",
    "# Example:\n",
    "print(\"9. Strides of arr1:\", array_strides(arr1))"
   ]
  },
  {
   "cell_type": "code",
   "execution_count": 11,
   "id": "227754be-60bc-4dfe-8a0a-1d5886979d5b",
   "metadata": {},
   "outputs": [
    {
     "name": "stdout",
     "output_type": "stream",
     "text": [
      "10. Shape and strides of arr5: ((3,), (8,))\n"
     ]
    }
   ],
   "source": [
    "# 10. Function to return shape and strides of an array.\n",
    "def shape_stride_relationship(arr):\n",
    "    return arr.shape, arr.strides\n",
    "\n",
    "# Example:\n",
    "print(\"10. Shape and strides of arr5:\", shape_stride_relationship(arr5))"
   ]
  },
  {
   "cell_type": "code",
   "execution_count": 12,
   "id": "ae17375d-e216-404f-9ceb-ee647ebbb5ab",
   "metadata": {},
   "outputs": [],
   "source": [
    "#     Array Creation"
   ]
  },
  {
   "cell_type": "code",
   "execution_count": 13,
   "id": "9bbb80d7-41ac-42b4-affc-760940a888e5",
   "metadata": {},
   "outputs": [
    {
     "name": "stdout",
     "output_type": "stream",
     "text": [
      "11. Zeros array: [0. 0. 0. 0. 0.]\n"
     ]
    }
   ],
   "source": [
    "# 11. Create a function create_zeros_array(n) to return a NumPy array of zeros with n elements.\n",
    "def create_zeros_array(n):\n",
    "    return np.zeros(n)\n",
    "\n",
    "print(\"11. Zeros array:\", create_zeros_array(5))"
   ]
  },
  {
   "cell_type": "code",
   "execution_count": 14,
   "id": "1f34e05a-5edf-40e6-a7b6-40f72ea8e95b",
   "metadata": {},
   "outputs": [
    {
     "name": "stdout",
     "output_type": "stream",
     "text": [
      "12. Ones matrix:\n",
      " [[1. 1. 1.]\n",
      " [1. 1. 1.]]\n"
     ]
    }
   ],
   "source": [
    "# 12. Write a function create_ones_matrix(rows, cols) to create a 2D array filled with ones.\n",
    "def create_ones_matrix(rows, cols):\n",
    "    return np.ones((rows, cols))\n",
    "\n",
    "print(\"12. Ones matrix:\\n\", create_ones_matrix(2, 3))\n"
   ]
  },
  {
   "cell_type": "code",
   "execution_count": 15,
   "id": "903cf5d0-b953-40ce-a047-04a76f3dd5ae",
   "metadata": {},
   "outputs": [
    {
     "name": "stdout",
     "output_type": "stream",
     "text": [
      "13. Range array: [0 2 4 6 8]\n"
     ]
    }
   ],
   "source": [
    "# 13. Write a function generate_range_array(start, stop, step) to create a ranged NumPy array.\n",
    "def generate_range_array(start, stop, step):\n",
    "    return np.arange(start, stop, step)\n",
    "\n",
    "print(\"13. Range array:\", generate_range_array(0, 10, 2))"
   ]
  },
  {
   "cell_type": "code",
   "execution_count": 16,
   "id": "8c045c60-6fe7-4882-8aef-17547b94e1b8",
   "metadata": {},
   "outputs": [
    {
     "name": "stdout",
     "output_type": "stream",
     "text": [
      "14. Linear spaced array: [0.   0.25 0.5  0.75 1.  ]\n"
     ]
    }
   ],
   "source": [
    "# 14. Design a function generate_linear_space(start, stop, num) for equally spaced values.\n",
    "def generate_linear_space(start, stop, num):\n",
    "    return np.linspace(start, stop, num)\n",
    "\n",
    "print(\"14. Linear spaced array:\", generate_linear_space(0, 1, 5))"
   ]
  },
  {
   "cell_type": "code",
   "execution_count": 17,
   "id": "3add5910-2189-4925-b42d-ba942e39566a",
   "metadata": {},
   "outputs": [
    {
     "name": "stdout",
     "output_type": "stream",
     "text": [
      "15. Identity matrix:\n",
      " [[1. 0. 0. 0.]\n",
      " [0. 1. 0. 0.]\n",
      " [0. 0. 1. 0.]\n",
      " [0. 0. 0. 1.]]\n"
     ]
    }
   ],
   "source": [
    "# 15. Create a function create_identity_matrix(n) using numpy.eye.\n",
    "def create_identity_matrix(n):\n",
    "    return np.eye(n)\n",
    "\n",
    "print(\"15. Identity matrix:\\n\", create_identity_matrix(4))\n"
   ]
  },
  {
   "cell_type": "code",
   "execution_count": 18,
   "id": "fbe5a4a0-da0b-475f-8ec9-3a2e43408f33",
   "metadata": {},
   "outputs": [
    {
     "name": "stdout",
     "output_type": "stream",
     "text": [
      "16. List to NumPy array: [1 2 3 4]\n"
     ]
    }
   ],
   "source": [
    "# 16. Write a function that converts a Python list into a NumPy array.\n",
    "def list_to_numpy_array(lst):\n",
    "    return np.array(lst)\n",
    "\n",
    "print(\"16. List to NumPy array:\", list_to_numpy_array([1, 2, 3, 4]))\n"
   ]
  },
  {
   "cell_type": "code",
   "execution_count": 19,
   "id": "f6508cac-9d6a-42a2-9aa5-441c5f6cfae2",
   "metadata": {},
   "outputs": [
    {
     "name": "stdout",
     "output_type": "stream",
     "text": [
      "17. Original array: [10 20 30 40]\n",
      "    View of array: [10 20 30 40]\n"
     ]
    }
   ],
   "source": [
    "# 17. Create a NumPy array and use numpy.view() to create a new view with the same data.\n",
    "original_array = np.array([10, 20, 30, 40])\n",
    "view_array = original_array.view()\n",
    "\n",
    "print(\"17. Original array:\", original_array)\n",
    "print(\"    View of array:\", view_array)"
   ]
  },
  {
   "cell_type": "code",
   "execution_count": 20,
   "id": "b0a1d30a-6a6c-4432-a2a4-a6083434ba23",
   "metadata": {},
   "outputs": [],
   "source": [
    "# Concatenation and Stacking\n"
   ]
  },
  {
   "cell_type": "code",
   "execution_count": 25,
   "id": "6aab9d9b-835f-430c-8432-10ff996a1e53",
   "metadata": {},
   "outputs": [
    {
     "name": "stdout",
     "output_type": "stream",
     "text": [
      "[[1 2]\n",
      " [3 4]\n",
      " [5 6]\n",
      " [7 8]]\n"
     ]
    }
   ],
   "source": [
    "\n",
    "# Q18\n",
    "def concatenate_arrays(arr1, arr2, axis=0):\n",
    "    return np.concatenate((arr1, arr2), axis=axis)\n",
    "\n",
    "arr1_q18 = np.array([[1, 2], [3, 4]])\n",
    "arr2_q18 = np.array([[5, 6], [7, 8]])\n",
    "print(concatenate_arrays(arr1_q18, arr2_q18, axis=0))"
   ]
  },
  {
   "cell_type": "code",
   "execution_count": 26,
   "id": "ef09120b-0dfe-47a3-be47-114b551e4d80",
   "metadata": {},
   "outputs": [
    {
     "name": "stdout",
     "output_type": "stream",
     "text": [
      "[[1 4]\n",
      " [2 5]\n",
      " [3 6]]\n"
     ]
    }
   ],
   "source": [
    "\n",
    "# Q19\n",
    "def concatenate_different_shapes_horizontally(arr1, arr2):\n",
    "    arr1 = arr1.reshape(-1, 1) if arr1.ndim == 1 else arr1\n",
    "    arr2 = arr2.reshape(-1, 1) if arr2.ndim == 1 else arr2\n",
    "    return np.concatenate((arr1, arr2), axis=1)\n",
    "\n",
    "arr1_q19 = np.array([1, 2, 3])\n",
    "arr2_q19 = np.array([4, 5, 6])\n",
    "print(concatenate_different_shapes_horizontally(arr1_q19, arr2_q19))"
   ]
  },
  {
   "cell_type": "code",
   "execution_count": 27,
   "id": "e03ca0b2-179b-4838-9c48-ec94ee10755e",
   "metadata": {},
   "outputs": [
    {
     "name": "stdout",
     "output_type": "stream",
     "text": [
      "[[1 2 3]\n",
      " [4 5 6]]\n"
     ]
    }
   ],
   "source": [
    "\n",
    "# Q20\n",
    "def vertical_stack_arrays(array_list):\n",
    "    return np.vstack(array_list)\n",
    "\n",
    "print(vertical_stack_arrays([arr1_q19, arr2_q19]))"
   ]
  },
  {
   "cell_type": "code",
   "execution_count": 29,
   "id": "11267554-005c-4c97-aee2-5a57ea0f43fc",
   "metadata": {},
   "outputs": [
    {
     "name": "stdout",
     "output_type": "stream",
     "text": [
      "[1 3 5 7 9]\n"
     ]
    }
   ],
   "source": [
    "\n",
    "# Q21\n",
    "def generate_range_with_step(start, stop, step):\n",
    "    return np.arange(start, stop + 1, step)\n",
    "\n",
    "print(generate_range_with_step(1, 10, 2))"
   ]
  },
  {
   "cell_type": "code",
   "execution_count": 30,
   "id": "5f7d3458-2eae-4e33-939f-92d20f55daec",
   "metadata": {},
   "outputs": [
    {
     "name": "stdout",
     "output_type": "stream",
     "text": [
      "[0.         0.11111111 0.22222222 0.33333333 0.44444444 0.55555556\n",
      " 0.66666667 0.77777778 0.88888889 1.        ]\n"
     ]
    }
   ],
   "source": [
    "\n",
    "# Q22\n",
    "print(np.linspace(0, 1, 10))"
   ]
  },
  {
   "cell_type": "code",
   "execution_count": 31,
   "id": "84f6064f-db89-419b-b020-a8b8cf9ebdb9",
   "metadata": {},
   "outputs": [
    {
     "name": "stdout",
     "output_type": "stream",
     "text": [
      "[   1.            5.62341325   31.6227766   177.827941   1000.        ]\n"
     ]
    }
   ],
   "source": [
    "# Q23\n",
    "print(np.logspace(0, 3, 5))"
   ]
  },
  {
   "cell_type": "code",
   "execution_count": 33,
   "id": "9973cd7d-bb7c-4e38-a437-96cfd2a9bd0f",
   "metadata": {},
   "outputs": [
    {
     "name": "stdout",
     "output_type": "stream",
     "text": [
      "    A   B    C\n",
      "0  52  89    2\n",
      "1  13  20  100\n",
      "2  44  18   40\n",
      "3  36  28   88\n",
      "4  23  67   78\n"
     ]
    }
   ],
   "source": [
    "import pandas as pd\n",
    "\n",
    "# Q24\n",
    "def create_random_dataframe():\n",
    "    data = np.random.randint(1, 101, size=(5, 3))\n",
    "    return pd.DataFrame(data, columns=['A', 'B', 'C'])\n",
    "\n",
    "df_q24 = create_random_dataframe()\n",
    "print(df_q24)"
   ]
  },
  {
   "cell_type": "code",
   "execution_count": 34,
   "id": "b873ff67-859a-4aa2-bb8c-86c8c0e88291",
   "metadata": {},
   "outputs": [
    {
     "name": "stdout",
     "output_type": "stream",
     "text": [
      "    A   B    C\n",
      "0  52  89    2\n",
      "1  13   0  100\n",
      "2  44  18   40\n",
      "3  36  28   88\n",
      "4  23  67   78\n"
     ]
    }
   ],
   "source": [
    "\n",
    "# Q25\n",
    "def replace_negatives_with_zero(df, column_name):\n",
    "    df[column_name] = np.where(df[column_name] < 0, 0, df[column_name])\n",
    "    return df\n",
    "\n",
    "df_q24.loc[1, 'B'] = -42  # Add negative value for testing\n",
    "print(replace_negatives_with_zero(df_q24, 'B'))"
   ]
  },
  {
   "cell_type": "code",
   "execution_count": 35,
   "id": "29f383fc-63eb-49f9-8944-e23b09e63273",
   "metadata": {},
   "outputs": [
    {
     "name": "stdout",
     "output_type": "stream",
     "text": [
      "30\n"
     ]
    }
   ],
   "source": [
    "# Q26: Access the 3rd element from a 1D array\n",
    "arr26 = np.array([10, 20, 30, 40, 50])\n",
    "print(arr26[2])"
   ]
  },
  {
   "cell_type": "code",
   "execution_count": 36,
   "id": "1843b643-5453-4ede-b718-e90ba39c270b",
   "metadata": {},
   "outputs": [
    {
     "name": "stdout",
     "output_type": "stream",
     "text": [
      "6\n"
     ]
    }
   ],
   "source": [
    "\n",
    "# Q27: Retrieve element at index (1, 2) from 2D array\n",
    "arr27 = np.array([[1, 2, 3], [4, 5, 6]])\n",
    "print(arr27[1, 2])"
   ]
  },
  {
   "cell_type": "code",
   "execution_count": 37,
   "id": "021298a5-cebb-4830-b748-c257b57a70b4",
   "metadata": {},
   "outputs": [
    {
     "name": "stdout",
     "output_type": "stream",
     "text": [
      "[8 9]\n"
     ]
    }
   ],
   "source": [
    "\n",
    "# Q28: Extract elements greater than 5 using boolean indexing\n",
    "arr28 = np.array([2, 5, 8, 1, 9])\n",
    "print(arr28[arr28 > 5])"
   ]
  },
  {
   "cell_type": "code",
   "execution_count": 38,
   "id": "6945ce43-68a6-413d-8df2-3ffca2054bb4",
   "metadata": {},
   "outputs": [
    {
     "name": "stdout",
     "output_type": "stream",
     "text": [
      "[2 3 4 5]\n"
     ]
    }
   ],
   "source": [
    "\n",
    "# Q29: Slice elements from index 2 to 5 (inclusive)\n",
    "arr29 = np.array([0, 1, 2, 3, 4, 5, 6, 7])\n",
    "print(arr29[2:6])"
   ]
  },
  {
   "cell_type": "code",
   "execution_count": 39,
   "id": "c12dab72-d543-4373-81cd-67162e8d8a92",
   "metadata": {},
   "outputs": [
    {
     "name": "stdout",
     "output_type": "stream",
     "text": [
      "[[2 3]\n",
      " [5 6]]\n"
     ]
    }
   ],
   "source": [
    "\n",
    "# Q30: Slice sub-array [[2, 3], [5, 6]]\n",
    "arr30 = np.array([[1, 2, 3], [4, 5, 6], [7, 8, 9]])\n",
    "print(arr30[0:2, 1:3])"
   ]
  },
  {
   "cell_type": "code",
   "execution_count": 40,
   "id": "23f2ed3d-62eb-46b8-94b2-0dd925fb8aef",
   "metadata": {},
   "outputs": [
    {
     "name": "stdout",
     "output_type": "stream",
     "text": [
      "[20 60]\n"
     ]
    }
   ],
   "source": [
    "\n",
    "# Q31: Extract elements based on indices from 2D array\n",
    "arr31 = np.array([[10, 20, 30], [40, 50, 60]])\n",
    "indices31 = [0, 1]\n",
    "print(arr31[indices31, [1, 2]])"
   ]
  },
  {
   "cell_type": "code",
   "execution_count": 41,
   "id": "e1b8bfde-9e77-46e8-9ba1-3dc6a995bd79",
   "metadata": {},
   "outputs": [
    {
     "name": "stdout",
     "output_type": "stream",
     "text": [
      "[ 7 10]\n"
     ]
    }
   ],
   "source": [
    "\n",
    "# Q32: Filter elements greater than threshold using boolean indexing\n",
    "arr32 = np.array([1, 4, 7, 10])\n",
    "print(arr32[arr32 > 5])"
   ]
  },
  {
   "cell_type": "code",
   "execution_count": 42,
   "id": "188ab757-8338-4589-bb2d-b5e30a5ec73e",
   "metadata": {},
   "outputs": [
    {
     "name": "stdout",
     "output_type": "stream",
     "text": [
      "[ 5 15]\n"
     ]
    }
   ],
   "source": [
    "\n",
    "# Q33: Extract specific elements from a 3D array using index arrays\n",
    "arr33 = np.arange(27).reshape(3, 3, 3)\n",
    "i33 = np.array([0, 1])\n",
    "j33 = np.array([1, 2])\n",
    "k33 = np.array([2, 0])\n",
    "print(arr33[i33, j33, k33])"
   ]
  },
  {
   "cell_type": "code",
   "execution_count": 43,
   "id": "ff56939c-018e-4995-b22b-1db83bf64ada",
   "metadata": {},
   "outputs": [
    {
     "name": "stdout",
     "output_type": "stream",
     "text": [
      "[20 25]\n"
     ]
    }
   ],
   "source": [
    "\n",
    "# Q34: Elements satisfying two boolean conditions\n",
    "arr34 = np.array([10, 15, 20, 25, 30])\n",
    "print(arr34[(arr34 > 15) & (arr34 < 30)])"
   ]
  },
  {
   "cell_type": "code",
   "execution_count": 44,
   "id": "4909abe7-3cb0-4184-969f-23ddb0b520dc",
   "metadata": {},
   "outputs": [
    {
     "name": "stdout",
     "output_type": "stream",
     "text": [
      "[3 5 7]\n"
     ]
    }
   ],
   "source": [
    "\n",
    "# Q35: Extract elements from 2D array using separate row and column index arrays\n",
    "arr35 = np.array([[1, 2, 3], [4, 5, 6], [7, 8, 9]])\n",
    "rows35 = np.array([0, 1, 2])\n",
    "cols35 = np.array([2, 1, 0])\n",
    "print(arr35[rows35, cols35])"
   ]
  },
  {
   "cell_type": "code",
   "execution_count": 45,
   "id": "c6614333-2c42-4d8a-9bc5-e24646d98df4",
   "metadata": {},
   "outputs": [
    {
     "name": "stdout",
     "output_type": "stream",
     "text": [
      "[6 7 8]\n"
     ]
    }
   ],
   "source": [
    "# Q36: Add scalar 5 to every element using broadcasting\n",
    "arr36 = np.array([1, 2, 3])\n",
    "print(arr36 + 5)"
   ]
  },
  {
   "cell_type": "code",
   "execution_count": 46,
   "id": "1d92e9bb-66a2-4412-be3a-bb14f073ed5f",
   "metadata": {},
   "outputs": [
    {
     "name": "stdout",
     "output_type": "stream",
     "text": [
      "[[ 1  2  3  4]\n",
      " [10 12 14 16]\n",
      " [27 30 33 36]]\n"
     ]
    }
   ],
   "source": [
    "\n",
    "# Q37: Multiply each row of (3, 4) array by (1, 3) array - corrected shape\n",
    "arr37 = np.array([[1, 2, 3, 4],\n",
    "                  [5, 6, 7, 8],\n",
    "                  [9, 10, 11, 12]])\n",
    "row_multipliers = np.array([[1], [2], [3]])\n",
    "print(arr37 * row_multipliers)"
   ]
  },
  {
   "cell_type": "code",
   "execution_count": 48,
   "id": "87c2c2be-04e4-42a8-9399-f42a517ae021",
   "metadata": {},
   "outputs": [
    {
     "name": "stdout",
     "output_type": "stream",
     "text": [
      "[[11 22 33]\n",
      " [14 25 36]\n",
      " [17 28 39]\n",
      " [20 31 42]]\n"
     ]
    }
   ],
   "source": [
    "\n",
    "# Q38: Add (1, 4) array to each row of (4, 3) array using broadcasting\n",
    "import numpy as np\n",
    "\n",
    "arr38 = np.array([[1, 2, 3],\n",
    "                  [4, 5, 6],\n",
    "                  [7, 8, 9],\n",
    "                  [10, 11, 12]])\n",
    "                  \n",
    "add38 = np.array([[10, 20, 30]])\n",
    "\n",
    "print(arr38 + add38)"
   ]
  },
  {
   "cell_type": "code",
   "execution_count": 49,
   "id": "115adf6a-8ec2-426b-92cd-7f44fcb7c4a1",
   "metadata": {},
   "outputs": [],
   "source": [
    "import numpy as np"
   ]
  },
  {
   "cell_type": "code",
   "execution_count": 50,
   "id": "3a6bf129-106f-4dee-bee7-5850e013c352",
   "metadata": {},
   "outputs": [
    {
     "name": "stdout",
     "output_type": "stream",
     "text": [
      "[[11 21 31]\n",
      " [12 22 32]\n",
      " [13 23 33]]\n"
     ]
    }
   ],
   "source": [
    "# Q39: Add arrays of shape (3, 1) and (1, 3) using broadcasting\n",
    "arr39_a = np.array([[1], [2], [3]])\n",
    "arr39_b = np.array([[10, 20, 30]])\n",
    "print(arr39_a + arr39_b)"
   ]
  },
  {
   "cell_type": "code",
   "execution_count": 51,
   "id": "6e822521-809f-4e1d-9802-b24c50c68823",
   "metadata": {},
   "outputs": [
    {
     "name": "stdout",
     "output_type": "stream",
     "text": [
      "operands could not be broadcast together with shapes (2,3) (2,2) \n"
     ]
    }
   ],
   "source": [
    "\n",
    "# Q40: Handle shape incompatibility during multiplication\n",
    "arr40_a = np.array([[1, 2, 3], [4, 5, 6]])\n",
    "arr40_b = np.array([[1, 2], [3, 4]])\n",
    "try:\n",
    "    print(arr40_a * arr40_b)\n",
    "except ValueError as e:\n",
    "    print(e)"
   ]
  },
  {
   "cell_type": "code",
   "execution_count": 52,
   "id": "5e62ae76-7d3a-4877-84e6-9aee335a1a1e",
   "metadata": {},
   "outputs": [
    {
     "name": "stdout",
     "output_type": "stream",
     "text": [
      "[2.5 3.5 4.5]\n"
     ]
    }
   ],
   "source": [
    "\n",
    "# Q41: Column-wise mean of a 2D array\n",
    "arr41 = np.array([[1, 2, 3], [4, 5, 6]])\n",
    "print(np.mean(arr41, axis=0))"
   ]
  },
  {
   "cell_type": "code",
   "execution_count": 53,
   "id": "968c0f73-ad8c-4f80-b467-b197ce4c8dfe",
   "metadata": {},
   "outputs": [
    {
     "name": "stdout",
     "output_type": "stream",
     "text": [
      "[9 5]\n"
     ]
    }
   ],
   "source": [
    "# Q42: Maximum value in each row\n",
    "arr42 = np.array([[7, 2, 9], [1, 5, 3]])\n",
    "print(np.max(arr42, axis=1))"
   ]
  },
  {
   "cell_type": "code",
   "execution_count": 54,
   "id": "028e6cef-eaa3-4010-9833-55be9ebb0fe7",
   "metadata": {},
   "outputs": [
    {
     "name": "stdout",
     "output_type": "stream",
     "text": [
      "[1 0 1]\n"
     ]
    }
   ],
   "source": [
    "# Q43: Indices of maximum values in each column\n",
    "arr43 = np.array([[1, 4, 2], [7, 0, 5]])\n",
    "print(np.argmax(arr43, axis=0))"
   ]
  },
  {
   "cell_type": "code",
   "execution_count": 55,
   "id": "8be17f03-4a07-4e8d-9814-d28a7e104c95",
   "metadata": {},
   "outputs": [
    {
     "name": "stdout",
     "output_type": "stream",
     "text": [
      "[[ 3  5  7]\n",
      " [11 13 15]]\n"
     ]
    }
   ],
   "source": [
    "\n",
    "# Q44: Moving sum along rows (custom function)\n",
    "arr44 = np.array([[1, 2, 3, 4], [5, 6, 7, 8]])\n",
    "def moving_sum_rowwise(arr, window=2):\n",
    "    return np.array([np.convolve(row, np.ones(window, dtype=int), 'valid') for row in arr])\n",
    "print(moving_sum_rowwise(arr44, window=2))"
   ]
  },
  {
   "cell_type": "code",
   "execution_count": 56,
   "id": "238bdc59-0c75-40d5-900a-22b71339310f",
   "metadata": {},
   "outputs": [
    {
     "name": "stdout",
     "output_type": "stream",
     "text": [
      "[ True  True]\n"
     ]
    }
   ],
   "source": [
    "\n",
    "# Q45: Check if all elements in each column are even\n",
    "arr45 = np.array([[2, 4], [6, 8]])\n",
    "print(np.all(arr45 % 2 == 0, axis=0))"
   ]
  },
  {
   "cell_type": "code",
   "execution_count": 57,
   "id": "9d042a11-c981-48b1-9156-9b2391f31757",
   "metadata": {},
   "outputs": [
    {
     "name": "stdout",
     "output_type": "stream",
     "text": [
      "[[ 0  1  2  3]\n",
      " [ 4  5  6  7]\n",
      " [ 8  9 10 11]]\n"
     ]
    }
   ],
   "source": [
    "\n",
    "# Q46: Reshape a given array into dimensions m x n\n",
    "arr46 = np.arange(12)\n",
    "print(arr46.reshape(3, 4))"
   ]
  },
  {
   "cell_type": "code",
   "execution_count": 58,
   "id": "afe7424c-65fb-4144-be3c-23e574d12d10",
   "metadata": {},
   "outputs": [
    {
     "name": "stdout",
     "output_type": "stream",
     "text": [
      "[1 2 3 4]\n"
     ]
    }
   ],
   "source": [
    "# Q47: Flatten a given matrix\n",
    "arr47 = np.array([[1, 2], [3, 4]])\n",
    "print(arr47.flatten())"
   ]
  },
  {
   "cell_type": "code",
   "execution_count": 59,
   "id": "1a721576-daf6-4b72-99af-d61b02877a01",
   "metadata": {},
   "outputs": [
    {
     "name": "stdout",
     "output_type": "stream",
     "text": [
      "[[1 2]\n",
      " [3 4]\n",
      " [5 6]]\n"
     ]
    }
   ],
   "source": [
    "\n",
    "# Q48: Concatenate two arrays along a specified axis\n",
    "arr48_1 = np.array([[1, 2], [3, 4]])\n",
    "arr48_2 = np.array([[5, 6]])\n",
    "print(np.concatenate((arr48_1, arr48_2), axis=0))"
   ]
  },
  {
   "cell_type": "code",
   "execution_count": 60,
   "id": "c44c7c18-b5b7-4bf1-b772-c581e4913e69",
   "metadata": {},
   "outputs": [
    {
     "name": "stdout",
     "output_type": "stream",
     "text": [
      "[array([[1, 2],\n",
      "       [5, 6]]), array([[3, 4],\n",
      "       [7, 8]])]\n"
     ]
    }
   ],
   "source": [
    "# Q49: Split an array into sub-arrays along a specified axis\n",
    "arr49 = np.array([[1, 2, 3, 4], [5, 6, 7, 8]])\n",
    "print(np.split(arr49, 2, axis=1))  # split into 2 sub-arrays column-wise\n"
   ]
  },
  {
   "cell_type": "code",
   "execution_count": 61,
   "id": "9070d1ce-de76-4421-94e8-87475cbe7ca1",
   "metadata": {},
   "outputs": [
    {
     "name": "stdout",
     "output_type": "stream",
     "text": [
      "[10 20 25 30 40]\n",
      "[10 20 25 40]\n"
     ]
    }
   ],
   "source": [
    "# Q50: Insert and delete elements at specified indices\n",
    "arr50 = np.array([10, 20, 30, 40])\n",
    "arr50_inserted = np.insert(arr50, 2, 25)  # insert 25 at index 2\n",
    "arr50_deleted = np.delete(arr50_inserted, 3)  # delete element at index 3\n",
    "print(arr50_inserted)\n",
    "print(arr50_deleted)\n"
   ]
  },
  {
   "cell_type": "code",
   "execution_count": 62,
   "id": "e4e038bd-6baf-445a-add9-ab0ccb5cbd0c",
   "metadata": {},
   "outputs": [
    {
     "name": "stdout",
     "output_type": "stream",
     "text": [
      "[5 7 9]\n"
     ]
    }
   ],
   "source": [
    "# Q51: Element-wise addition between two arrays\n",
    "arr51_a = np.array([1, 2, 3])\n",
    "arr51_b = np.array([4, 5, 6])\n",
    "print(arr51_a + arr51_b)"
   ]
  },
  {
   "cell_type": "code",
   "execution_count": 63,
   "id": "ddd22017-5429-4cb4-8d28-da4e554f6d10",
   "metadata": {},
   "outputs": [
    {
     "name": "stdout",
     "output_type": "stream",
     "text": [
      "[-3 -3 -3]\n",
      "[ 4 10 18]\n",
      "[0.25 0.4  0.5 ]\n",
      "[  1  32 729]\n"
     ]
    }
   ],
   "source": [
    "\n",
    "# Q52: Element-wise subtraction (arr1 - arr2)\n",
    "print(arr51_a - arr51_b)\n",
    "\n",
    "# Q53: Element-wise multiplication\n",
    "print(arr51_a * arr51_b)\n",
    "\n",
    "# Q54: Element-wise division\n",
    "print(arr51_a / arr51_b)\n",
    "\n",
    "# Q55: Element-wise exponentiation (arr1 ** arr2)\n",
    "print(arr51_a ** arr51_b)"
   ]
  },
  {
   "cell_type": "code",
   "execution_count": 65,
   "id": "91b57fb7-6166-47e8-beae-4006d6949bad",
   "metadata": {},
   "outputs": [
    {
     "name": "stdout",
     "output_type": "stream",
     "text": [
      "[1 1 0]\n"
     ]
    }
   ],
   "source": [
    "# Q56: Count occurrences of a substring in a string array\n",
    "arr56 = np.array(['apple pie', 'banana pie', 'cherry tart'])\n",
    "print(np.char.count(arr56, 'pie'))"
   ]
  },
  {
   "cell_type": "code",
   "execution_count": 66,
   "id": "f100cabb-ba3f-40e3-8451-e98023091a57",
   "metadata": {},
   "outputs": [
    {
     "name": "stdout",
     "output_type": "stream",
     "text": [
      "['HLL' 'WLD' 'PTH']\n"
     ]
    }
   ],
   "source": [
    "# Q57: Extract uppercase characters from a string array\n",
    "arr57 = np.array(['HeLLo', 'WorLD', 'PyTHon'])\n",
    "print(np.array([''.join([ch for ch in s if ch.isupper()]) for s in arr57]))\n"
   ]
  },
  {
   "cell_type": "code",
   "execution_count": 67,
   "id": "6d6e7660-b63b-4f90-beb0-b5ca1a60e969",
   "metadata": {},
   "outputs": [
    {
     "name": "stdout",
     "output_type": "stream",
     "text": [
      "['hello universe' 'python universe']\n"
     ]
    }
   ],
   "source": [
    "# Q58: Replace substring occurrences with another string in a string array\n",
    "arr58 = np.array(['hello world', 'python world'])\n",
    "print(np.char.replace(arr58, 'world', 'universe'))\n"
   ]
  },
  {
   "cell_type": "code",
   "execution_count": 68,
   "id": "918d47c3-b24d-4d35-af76-cae3fff5a1ad",
   "metadata": {},
   "outputs": [
    {
     "name": "stdout",
     "output_type": "stream",
     "text": [
      "['foo123' 'bar456']\n"
     ]
    }
   ],
   "source": [
    "# Q59: Concatenate strings in a NumPy array element-wise\n",
    "arr59a = np.array(['foo', 'bar'])\n",
    "arr59b = np.array(['123', '456'])\n",
    "print(np.char.add(arr59a, arr59b))\n"
   ]
  },
  {
   "cell_type": "code",
   "execution_count": 69,
   "id": "cdeb4fc1-f48a-4322-b86d-178a430a1b80",
   "metadata": {},
   "outputs": [
    {
     "name": "stdout",
     "output_type": "stream",
     "text": [
      "18\n"
     ]
    }
   ],
   "source": [
    "# Q60: Find the length of the longest string in a string array\n",
    "arr60 = np.array(['short', 'medium', 'a very long string'])\n",
    "print(max(np.char.str_len(arr60)))"
   ]
  },
  {
   "cell_type": "code",
   "execution_count": 70,
   "id": "bc4b2eab-c7fb-4568-b1ca-2ff034705d89",
   "metadata": {},
   "outputs": [
    {
     "name": "stdout",
     "output_type": "stream",
     "text": [
      "553.95\n",
      "541.0\n",
      "96967.46749999998\n",
      "311.39599788693494\n"
     ]
    }
   ],
   "source": [
    "# Q61: Mean, median, variance, std of 100 random integers (1–1000)\n",
    "arr61 = np.random.randint(1, 1001, 100)\n",
    "print(np.mean(arr61))\n",
    "print(np.median(arr61))\n",
    "print(np.var(arr61))\n",
    "print(np.std(arr61))"
   ]
  },
  {
   "cell_type": "code",
   "execution_count": 71,
   "id": "d4209170-ff3e-4991-be8c-236c03e11266",
   "metadata": {},
   "outputs": [
    {
     "name": "stdout",
     "output_type": "stream",
     "text": [
      "29.0\n",
      "79.0\n"
     ]
    }
   ],
   "source": [
    "# Q62: 25th and 75th percentiles of 50 random numbers (1–100)\n",
    "arr62 = np.random.randint(1, 101, 50)\n",
    "print(np.percentile(arr62, 25))\n",
    "print(np.percentile(arr62, 75))"
   ]
  },
  {
   "cell_type": "code",
   "execution_count": 72,
   "id": "a9ef0df2-0cec-45fd-bc3a-14b44c58c556",
   "metadata": {},
   "outputs": [
    {
     "name": "stdout",
     "output_type": "stream",
     "text": [
      "[[1. 1.]\n",
      " [1. 1.]]\n"
     ]
    }
   ],
   "source": [
    "# Q63: Correlation coefficient between two arrays\n",
    "arr63a = np.array([1, 2, 3, 4, 5])\n",
    "arr63b = np.array([2, 4, 6, 8, 10])\n",
    "print(np.corrcoef(arr63a, arr63b))"
   ]
  },
  {
   "cell_type": "code",
   "execution_count": 73,
   "id": "ff8a39a9-daee-485e-a544-7fe9918a944d",
   "metadata": {},
   "outputs": [
    {
     "name": "stdout",
     "output_type": "stream",
     "text": [
      "[[19 22]\n",
      " [43 50]]\n"
     ]
    }
   ],
   "source": [
    "\n",
    "# Q64: Matrix multiplication using np.dot\n",
    "arr64a = np.array([[1, 2], [3, 4]])\n",
    "arr64b = np.array([[5, 6], [7, 8]])\n",
    "print(np.dot(arr64a, arr64b))\n"
   ]
  },
  {
   "cell_type": "code",
   "execution_count": 74,
   "id": "2d3fe81b-0ea5-44c0-8693-2840479b65c3",
   "metadata": {},
   "outputs": [
    {
     "name": "stdout",
     "output_type": "stream",
     "text": [
      "[18.  47.  93.1]\n",
      "2\n",
      "[ 7 11 22 27 27 30 43 68 75 76]\n",
      "[25 35]\n",
      "[ 3  9 12]\n",
      "[25 35]\n",
      "=\n",
      "[256   1]\n"
     ]
    }
   ],
   "source": [
    "# Q65: 10th, 50th, 90th percentiles of array of 50 integers\n",
    "arr65 = np.random.randint(1, 101, 50)\n",
    "print(np.percentile(arr65, [10, 50, 90]))\n",
    "\n",
    "# Q66: Find index of a specific element in array\n",
    "arr66 = np.array([10, 20, 30, 40, 50])\n",
    "print(np.where(arr66 == 30)[0][0])\n",
    "\n",
    "# Q67: Sort a random array in ascending order\n",
    "arr67 = np.random.randint(1, 100, 10)\n",
    "print(np.sort(arr67))\n",
    "\n",
    "# Q68: Filter elements greater than 20\n",
    "arr68 = np.array([5, 15, 25, 35])\n",
    "print(arr68[arr68 > 20])\n",
    "\n",
    "# Q69: Filter elements divisible by 3\n",
    "arr69 = np.array([3, 5, 9, 10, 12])\n",
    "print(arr69[arr69 % 3 == 0])\n",
    "\n",
    "# Q70: Filter elements between 20 and 40 (inclusive)\n",
    "arr70 = np.array([10, 25, 35, 45])\n",
    "print(arr70[(arr70 >= 20) & (arr70 <= 40)])\n",
    "\n",
    "# Q71: Check byte order of a NumPy array\n",
    "arr71 = np.array([1, 2, 3])\n",
    "print(arr71.dtype.byteorder)\n",
    "\n",
    "# Q72: Perform in-place byte swapping using byteswap()\n",
    "arr72 = np.array([1, 256], dtype='>i2')  # big-endian 2-byte integers\n",
    "arr72.byteswap(True)\n",
    "print(arr72)"
   ]
  },
  {
   "cell_type": "code",
   "execution_count": null,
   "id": "4a5de3ea-e4f6-49e5-90aa-7c660e88cf67",
   "metadata": {},
   "outputs": [],
   "source": []
  }
 ],
 "metadata": {
  "kernelspec": {
   "display_name": "Python [conda env:base] *",
   "language": "python",
   "name": "conda-base-py"
  },
  "language_info": {
   "codemirror_mode": {
    "name": "ipython",
    "version": 3
   },
   "file_extension": ".py",
   "mimetype": "text/x-python",
   "name": "python",
   "nbconvert_exporter": "python",
   "pygments_lexer": "ipython3",
   "version": "3.12.7"
  }
 },
 "nbformat": 4,
 "nbformat_minor": 5
}
